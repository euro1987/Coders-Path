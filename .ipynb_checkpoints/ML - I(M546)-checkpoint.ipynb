{
 "cells": [
  {
   "cell_type": "code",
   "execution_count": null,
   "metadata": {},
   "outputs": [],
   "source": [
    "## MACHINE LEARNING\n",
    "\n",
    "# SUPERVISED ML\n",
    "# UNSUPERVISED ML\n",
    "\n",
    "## PARAMETRIC TEST : THAT USE THE PARAMETERS OF TRAINING DATASET FOR PREDICTION AND CLASSIFICATION \n",
    "#  LINEAR REGRESSION , LOGISTICS REGRESSION\n",
    "\n",
    "## NON PARAMETRIC TEST : TAHT DON'T USE TRINING PARAMETER. FOR EXAPMLE SVM, DECISION TREE\n",
    "\n",
    "# INSTANCE BASED LEARNING : (MEMORY BASED LEARNING AS WELL)Sub category of non parametric test  : KNN"
   ]
  },
  {
   "cell_type": "code",
   "execution_count": null,
   "metadata": {},
   "outputs": [],
   "source": [
    "## NORMALIZATION[0,1] AND STANDARDIZATION[MEAN = 0, STD DEVIATION = 1]: NORMAL DISTRIBUTION"
   ]
  },
  {
   "cell_type": "code",
   "execution_count": null,
   "metadata": {},
   "outputs": [],
   "source": [
    "## K NEAREST NEIGHBORS : LAZY LEARNER\n",
    "\n",
    "## IT IS BASED ON EUCLIDEAN DISTANCE"
   ]
  },
  {
   "cell_type": "code",
   "execution_count": null,
   "metadata": {},
   "outputs": [],
   "source": [
    "## REQUIRED LIBRARY FOR ML : SCIKIT KEARN LIBRARY"
   ]
  },
  {
   "cell_type": "code",
   "execution_count": null,
   "metadata": {},
   "outputs": [],
   "source": [
    "## STEPS OF ML ALGORITHMS\n",
    "\n",
    "# DATA CLEANING\n",
    "## PARTITION OF DATASET : 70-30, 80-20, 60-40\n",
    "#I. LARGEST PART IS TRAINING DATASET\n",
    "#II. SMALLEST PART TESTING DATA(UNSEEN DATA, NEW DATASET)\n",
    "\n",
    "## FITTING THE MODEL\n",
    "## PREDICT THE MODEL \n",
    "## CONFUSION MATRIX (ACTUAL , PREDICTED VALUES)"
   ]
  },
  {
   "cell_type": "code",
   "execution_count": null,
   "metadata": {},
   "outputs": [],
   "source": [
    "## OVERFITTING PROBLEM : MODEL IS FITTING BEST ON THE TRAINING PART BUT NOT ON TEST DATASET\n",
    "## UNDERFITTING PROBLEM : MODEL FITTING WILL BE ON TEST DATASET BUT NOT ON TRAINING DATASET\n",
    "\n",
    "## SOLUTION : CROSS VALIDATION"
   ]
  },
  {
   "cell_type": "code",
   "execution_count": null,
   "metadata": {},
   "outputs": [],
   "source": [
    "## KNN \n",
    "\n",
    "# FIRST CHECK ALL THE K IN THE MODEL\n",
    "# FIND THE CLOSEST DATAPOINT BASED ON THE DISTANCE\n",
    "# SELECT CATEGORY WITH MAJORITY OF DATA POINTS"
   ]
  }
 ],
 "metadata": {
  "kernelspec": {
   "display_name": "Python 3",
   "language": "python",
   "name": "python3"
  },
  "language_info": {
   "codemirror_mode": {
    "name": "ipython",
    "version": 3
   },
   "file_extension": ".py",
   "mimetype": "text/x-python",
   "name": "python",
   "nbconvert_exporter": "python",
   "pygments_lexer": "ipython3",
   "version": "3.8.5"
  }
 },
 "nbformat": 4,
 "nbformat_minor": 2
}
